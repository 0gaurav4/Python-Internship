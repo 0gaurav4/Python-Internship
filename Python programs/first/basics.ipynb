{
 "cells": [
  {
   "cell_type": "code",
   "execution_count": 15,
   "metadata": {},
   "outputs": [
    {
     "name": "stdout",
     "output_type": "stream",
     "text": [
      "2 is prime.\n"
     ]
    }
   ],
   "source": [
    "def prime(x):\n",
    "    for i in range(2, x):\n",
    "        if x % i == 0:\n",
    "            print(f\"{x} is not prime.\")\n",
    "            break\n",
    "    else:\n",
    "        print(f\"{x} is prime.\")\n",
    "        \n",
    "n = int(input(\"Please enter any number to check prime: \"))\n",
    "prime(n)\n"
   ]
  },
  {
   "cell_type": "code",
   "execution_count": 13,
   "metadata": {},
   "outputs": [
    {
     "name": "stdout",
     "output_type": "stream",
     "text": [
      "34 is not prine\n"
     ]
    }
   ],
   "source": [
    "def prime(n):\n",
    "    c=0\n",
    "    for i in range(1,n+1):\n",
    "        if(n%i==0):\n",
    "            c=c+1\n",
    "    if c==2:\n",
    "        print(f\"{n} is prime.\")\n",
    "    else:\n",
    "        print(f\"{n} is not prine\")\n",
    "        \n",
    "n = int(input(\"Enter any no.= \"))\n",
    "prime(n)"
   ]
  },
  {
   "cell_type": "code",
   "execution_count": 22,
   "metadata": {},
   "outputs": [
    {
     "data": {
      "text/plain": [
       "6"
      ]
     },
     "execution_count": 22,
     "metadata": {},
     "output_type": "execute_result"
    }
   ],
   "source": [
    "def fact(x):\n",
    "    if x == 0 or x == 1:                  \n",
    "        return 1                              \n",
    "    else:                                      \n",
    "        return x * fact(x-1)                            \n",
    "fa = int(input(\"Check factorial!:\"))               \n",
    "fact(fa)                                         "
   ]
  },
  {
   "cell_type": "code",
   "execution_count": null,
   "metadata": {},
   "outputs": [],
   "source": []
  }
 ],
 "metadata": {
  "kernelspec": {
   "display_name": "Python 3",
   "language": "python",
   "name": "python3"
  },
  "language_info": {
   "codemirror_mode": {
    "name": "ipython",
    "version": 3
   },
   "file_extension": ".py",
   "mimetype": "text/x-python",
   "name": "python",
   "nbconvert_exporter": "python",
   "pygments_lexer": "ipython3",
   "version": "3.9.10"
  },
  "orig_nbformat": 4
 },
 "nbformat": 4,
 "nbformat_minor": 2
}
