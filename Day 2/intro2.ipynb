{
 "cells": [
  {
   "cell_type": "markdown",
   "metadata": {},
   "source": [
    "<code>Author : @mysgrown </code> <br>\n",
    "<b>Python : Day 2 </b> <br>\n",
    "<em> Topics covered.. </em>\n",
    "- Installation of Python using VS CODE\n",
    "- Keywords \n",
    "- Identifiers\n",
    "- Rules for making Identifiers\n",
    "- \n",
    "- "
   ]
  },
  {
   "cell_type": "markdown",
   "metadata": {},
   "source": [
    "<b> <u> Installation of Python using VS CODE </b>"
   ]
  },
  {
   "cell_type": "markdown",
   "metadata": {},
   "source": [
    "- Search \"VS Studio Code\" on google and click on official link and download according to your O.S. \n",
    "\n",
    "- https://code.visualstudio.com/  (Official Site)\n",
    "- Now Open a new folder in VS code and make a new file save it as  <code> anyName.py </code> using <code> .py </code> extension.\n",
    "- Add simple python code here like : <code> print(\"Hello\") </code>\n",
    "- Run it using Run Button or Ctrl+F5.\n",
    "- Now VS Code automatically send you mesaages to download necessary files to run python on it.\n",
    "- Download and install whatever they ask you to add.\n",
    "- Again run the program."
   ]
  },
  {
   "cell_type": "markdown",
   "metadata": {},
   "source": [
    "<b> <u> Keywords </b>"
   ]
  },
  {
   "cell_type": "markdown",
   "metadata": {},
   "source": [
    "- Reserved words\n",
    "- The words which convey special meaning to the identifiers.\n",
    "- Currently python version 3.10.11 have 36 keywords or reserved words."
   ]
  },
  {
   "cell_type": "code",
   "execution_count": 41,
   "metadata": {},
   "outputs": [
    {
     "name": "stdout",
     "output_type": "stream",
     "text": [
      "List of keywords: ['False', 'None', 'True', '__peg_parser__', 'and', 'as', 'assert', 'async', 'await', 'break', 'class', 'continue', 'def', 'del', 'elif', 'else', 'except', 'finally', 'for', 'from', 'global', 'if', 'import', 'in', 'is', 'lambda', 'nonlocal', 'not', 'or', 'pass', 'raise', 'return', 'try', 'while', 'with', 'yield']\n",
      "Number of keywords: 36\n"
     ]
    }
   ],
   "source": [
    "# comment in python using #\n",
    "# Import inbuilt module named as keyword\n",
    "import keyword\n",
    "print(\"List of keywords:\",keyword.kwlist)\n",
    "print(\"Number of keywords:\",len(keyword.kwlist))"
   ]
  },
  {
   "cell_type": "markdown",
   "metadata": {},
   "source": [
    "- 'False', 'None', 'True' , only these three keywords starts with uppercase."
   ]
  },
  {
   "cell_type": "markdown",
   "metadata": {},
   "source": [
    "<b> <u> Identifiers </b>"
   ]
  },
  {
   "cell_type": "markdown",
   "metadata": {},
   "source": [
    "- It is a name given to  variable, function, class, module, or any other user-defined object in Python.\n",
    "- Identifiers are used to uniquely identify these objects in the code."
   ]
  },
  {
   "cell_type": "markdown",
   "metadata": {},
   "source": [
    "<b> <u> Rules for making Identifiers </b>"
   ]
  },
  {
   "cell_type": "markdown",
   "metadata": {},
   "source": [
    "- Identifiers can consist of letters (both uppercase and lowercase), digits (0-9), and underscores (_).\n",
    "\n",
    "- The first character of an identifier cannot be a digit.\n",
    "- These are case-sensitive, so my_var and My_Var would be treated as different variables. Cannot use keyword names.\n",
    "- No whitespace is allowed to be used inside naming.\n"
   ]
  },
  {
   "cell_type": "code",
   "execution_count": 54,
   "metadata": {},
   "outputs": [
    {
     "data": {
      "text/plain": [
       "2"
      ]
     },
     "execution_count": 54,
     "metadata": {},
     "output_type": "execute_result"
    }
   ],
   "source": [
    "# Identifier examples\n",
    "# class name    : identifier_name  <lower case>\n",
    "# function name : Myfun            <upper case>\n",
    "# object name   : _Obj1            <underscore>\n",
    "\n",
    "class identifier_name:\n",
    "    def Myfun(self, x):\n",
    "        x=x+1\n",
    "        return x\n",
    "_Obj1 = identifier_name()\n",
    "_Obj1.Myfun(1)\n",
    "#  1Obj2.Myfun(1)\n",
    "# Syntax error <cannot start with digit>"
   ]
  },
  {
   "cell_type": "markdown",
   "metadata": {},
   "source": [
    "When creating variables, you need to follow the rules for identifiers."
   ]
  }
 ],
 "metadata": {
  "kernelspec": {
   "display_name": "Python 3",
   "language": "python",
   "name": "python3"
  },
  "language_info": {
   "codemirror_mode": {
    "name": "ipython",
    "version": 3
   },
   "file_extension": ".py",
   "mimetype": "text/x-python",
   "name": "python",
   "nbconvert_exporter": "python",
   "pygments_lexer": "ipython3",
   "version": "3.9.10"
  },
  "orig_nbformat": 4
 },
 "nbformat": 4,
 "nbformat_minor": 2
}
