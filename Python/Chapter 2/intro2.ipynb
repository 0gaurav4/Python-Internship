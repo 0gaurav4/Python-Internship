{
 "cells": [
  {
   "cell_type": "markdown",
   "metadata": {},
   "source": [
    "<code>Author : @mysgrown </code> <br>\n",
    "<b>Python : Chapter 2 </b> <br>\n",
    "<em> Topics covered.. </em>\n",
    "- Installation of Python using VS CODE\n",
    "- Keywords \n",
    "- Identifiers\n",
    "- Rules for making Identifiers\n",
    "- Datatypes \n",
    "- Variables\n",
    "- Literals"
   ]
  },
  {
   "cell_type": "markdown",
   "metadata": {},
   "source": [
    "<b> <u> Installation of Python using VS CODE </u> </b>"
   ]
  },
  {
   "cell_type": "markdown",
   "metadata": {},
   "source": [
    "- Search \"VS Studio Code\" on google and click on official link and download according to your O.S. \n",
    "\n",
    "- https://code.visualstudio.com/  (Official Site)\n",
    "- Now Open a new folder in VS code and make a new file save it as  <code> anyName.py </code> using <code> .py </code> extension.\n",
    "- Add simple python code here like : <code> print(\"Hello\") </code>\n",
    "- Run it using Run Button or Ctrl+F5.\n",
    "- Now VS Code automatically send you mesaages to download necessary files to run python on it.\n",
    "- Download and install whatever they ask you to add.\n",
    "- Again run the program."
   ]
  },
  {
   "cell_type": "markdown",
   "metadata": {},
   "source": [
    "<b> <u> Keywords </u> </b>"
   ]
  },
  {
   "cell_type": "markdown",
   "metadata": {},
   "source": [
    "- Reserved words\n",
    "- The words which convey special meaning to the identifiers.\n",
    "- Currently python version 3.10.11 have 36 keywords or reserved words."
   ]
  },
  {
   "cell_type": "code",
   "execution_count": 4,
   "metadata": {},
   "outputs": [
    {
     "name": "stdout",
     "output_type": "stream",
     "text": [
      "List of keywords: ['False', 'None', 'True', '__peg_parser__', 'and', 'as', 'assert', 'async', 'await', 'break', 'class', 'continue', 'def', 'del', 'elif', 'else', 'except', 'finally', 'for', 'from', 'global', 'if', 'import', 'in', 'is', 'lambda', 'nonlocal', 'not', 'or', 'pass', 'raise', 'return', 'try', 'while', 'with', 'yield']\n",
      "Number of keywords: 36\n"
     ]
    }
   ],
   "source": [
    "# comment in python using #\n",
    "# Import inbuilt module named as keyword\n",
    "import keyword\n",
    "print(\"List of keywords:\",keyword.kwlist)\n",
    "print(\"Number of keywords:\",len(keyword.kwlist))"
   ]
  },
  {
   "cell_type": "markdown",
   "metadata": {},
   "source": [
    "- 'False', 'None', 'True' , only these three keywords starts with uppercase."
   ]
  },
  {
   "cell_type": "markdown",
   "metadata": {},
   "source": [
    "<b> <u> Identifiers </u> </b>"
   ]
  },
  {
   "cell_type": "markdown",
   "metadata": {},
   "source": [
    "- It is a name given to  variable, function, class, module, or any other user-defined object in Python.\n",
    "- Identifiers are used to uniquely identify these objects in the code."
   ]
  },
  {
   "cell_type": "markdown",
   "metadata": {},
   "source": [
    "<b> <u> Rules for making Identifiers </u> </b>"
   ]
  },
  {
   "cell_type": "markdown",
   "metadata": {},
   "source": [
    "- Identifiers can consist of letters (both uppercase and lowercase), digits (0-9), and underscores (_).\n",
    "\n",
    "- The first character of an identifier cannot be a digit.\n",
    "- These are case-sensitive, so my_var and My_Var would be treated as different variables. Cannot use keyword names.\n",
    "- No whitespace is allowed to be used inside naming.\n"
   ]
  },
  {
   "cell_type": "code",
   "execution_count": 5,
   "metadata": {},
   "outputs": [
    {
     "data": {
      "text/plain": [
       "2"
      ]
     },
     "execution_count": 5,
     "metadata": {},
     "output_type": "execute_result"
    }
   ],
   "source": [
    "# Identifier examples\n",
    "# class name    : identifier_name  <lower case>\n",
    "# function name : Myfun            <upper case>\n",
    "# object name   : _Obj1            <underscore>\n",
    "\n",
    "class identifier_name:\n",
    "    def Myfun(self, x):\n",
    "        x=x+1\n",
    "        return x\n",
    "_Obj1 = identifier_name()\n",
    "_Obj1.Myfun(1)\n",
    "#  1Obj2.Myfun(1)\n",
    "# Syntax error <cannot start with digit>"
   ]
  },
  {
   "cell_type": "markdown",
   "metadata": {},
   "source": [
    "<b> <u> Datatypes </u> </b>"
   ]
  },
  {
   "cell_type": "markdown",
   "metadata": {},
   "source": [
    "\n",
    "- Represents the type of data in variables.\n",
    "- When creating variables, we need to follow the rules for identifiers.\n",
    "- Data types can be summarized into three main categories:\n",
    "\n",
    "1. Numeric Data Types:\n",
    "\n",
    "   - int: Represents integers, which are whole numbers without a fractional part ```(e.g., 5, -10, 0)```.\n",
    "\n",
    "   - float: Represents floating-point numbers, which are real numbers with decimal points ```(e.g., 3.14, -0.5)```.\n",
    "   - complex: representing real number with imaginary numbers ```(e.g., -2+3j)```.\n",
    "\n",
    "2. Sequence Data Types (Ordered Collections):\n",
    "\n",
    "   - str: Represents strings, which are sequences of characters ```(e.g., \"Hello\", 'Python')```.\n",
    "\n",
    "   - list: Represents lists, which are ordered and mutable collections of items ```(e.g., [1, 2, 3])```.\n",
    "   - tuple: Represents tuples, which are ordered and immutable collections of items ```(e.g., (1, 2, 3))```.\n",
    "   - range: Represents ranges of numbers, often used in loops ```(e.g., range(0, 5))```.\n",
    "\n",
    "3. Non-Sequence Data Types (Unordered Collections):\n",
    "\n",
    "   - set: Represents sets, which are unordered and mutable collections of unique elements ```(e.g., {1, 2, 3})```.\n",
    "\n",
    "   - dict: Represents dictionaries, which are unordered and mutable collections of key-value pairs ```(e.g., {\"name\": \"John\", \"age\": 30})```.\n",
    "   - bool: Represents Boolean values, either ```True``` or ```False```.\n"
   ]
  },
  {
   "cell_type": "code",
   "execution_count": 6,
   "metadata": {},
   "outputs": [],
   "source": [
    "# Examples of primary data types\n",
    "x = 5             # int\n",
    "y = 3.14          # float\n",
    "c = -4+5j         # complex\n",
    "name = \"John\"     # str\n",
    "is_valid = True   # bool\n"
   ]
  },
  {
   "cell_type": "markdown",
   "metadata": {},
   "source": [
    "```Data Types in details (inbuilt data types)```\n",
    "- Datatypes represent the type of data present inside a variable.\n",
    "- It represent the kind of value that tells what operation can be performed on particular data.\n",
    "\n",
    "1. Numeric Types:\n",
    "\n",
    "   - int:  representing whole numbers (e.g., 5, -10, 0).\n",
    "   \n",
    "   - float: representing real numbers with decimal points (e.g., 3.14, -0.5).\n",
    "   - complex: representing real number with imaginary numbers (e.g., -2+3j).\n",
    "\n",
    "2. Text Type:\n",
    "\n",
    "   - str: representing a sequence of characters enclosed in single (' ') or double (\" \") quotes (e.g., \"Hello\", 'Python').\n",
    "\n",
    "\n",
    "3. Sequence Types:\n",
    "\n",
    "   - list: Ordered and mutable collection of items, separated by commas and enclosed in square brackets (e.g., [1, 2, 3]).\n",
    "\n",
    "   - tuple: Ordered and immutable collection of items, separated by commas and enclosed in parentheses (e.g., (1, 2, 3)).\n",
    "   - range: Represents a range of numbers, typically used in loops (e.g., range(0, 5)).\n",
    "\n",
    "4. Mapping Type:\n",
    "\n",
    "   - dict: An unordered collection of key-value pairs, enclosed in curly braces with colon separating keys and values (e.g., {\"name\": \"John\", \"age\": 30}).\n",
    "\n",
    "\n",
    "5. Set Types:\n",
    "\n",
    "   - set: An unordered collection of unique elements, enclosed in curly braces (e.g., {1, 2, 3}).\n",
    "\n",
    "   - frozenset: An immutable version of a set, enclosed in parentheses (e.g., frozenset({1, 2, 3})).\n",
    "\n",
    "6. Boolean Type:\n",
    "\n",
    "   - bool: Represents Boolean values - True or False.\n",
    "\n",
    "\n",
    "7. Binary Types:\n",
    "\n",
    "   - bytes: Represents a sequence of bytes (immutable).\n",
    "\n",
    "   - bytearray: Represents a sequence of bytes (mutable).\n",
    "   - memoryview: Represents a memory view of an object, allowing access to its internal data.\n",
    "\n",
    "8. None Type:\n",
    "   - None: Represents the absence of a value or a null value.\n",
    "   \n",
    "\n",
    "- Python is dynamically typed, meaning we don't need to specify the data type of a variable explicitly. Instead, the data type is determined based on the value assigned to the variable. "
   ]
  },
  {
   "cell_type": "code",
   "execution_count": 7,
   "metadata": {},
   "outputs": [],
   "source": [
    "# Numeric Types\n",
    "age = 30\n",
    "pi = 3.14\n",
    "complex_num = -3+6j\n",
    "\n",
    "# Text Type\n",
    "name = \"John\"\n",
    "greeting = 'Hello, ' + name\n",
    "\n",
    "# Sequence Types\n",
    "numbers = [1, 2, 3, 4]\n",
    "coordinates = (10, 20)\n",
    "my_range = range(1, 6)\n",
    "\n",
    "# Mapping Type\n",
    "person = {\"name\": \"John\", \"age\": 30, \"city\": \"New York\"}\n",
    "\n",
    "# Set Types\n",
    "unique_numbers = {1, 2, 3, 3, 4, 5}\n",
    "immutable_set = frozenset({1, 2, 3})\n",
    "\n",
    "# Boolean Type\n",
    "is_valid = True\n",
    "is_invalid = False\n",
    "\n",
    "# Binary Types\n",
    "binary_data = b'\\x00\\x01\\x02\\x03'\n",
    "mutable_binary_data = bytearray(b'\\x00\\x01\\x02\\x03')\n",
    "mv = memoryview(mutable_binary_data)\n",
    "\n",
    "# None Type\n",
    "result = None\n"
   ]
  },
  {
   "cell_type": "code",
   "execution_count": 8,
   "metadata": {},
   "outputs": [
    {
     "name": "stdout",
     "output_type": "stream",
     "text": [
      "Numeric Types:\n",
      "30 3.14\n",
      "(-3+6j)\n",
      "\n",
      "Text Type:\n",
      "Hello, John\n",
      "\n",
      "Sequence Types:\n",
      "[1, 2, 3, 4]\n",
      "(10, 20)\n",
      "[1, 2, 3, 4, 5]\n",
      "\n",
      "Mapping Type:\n",
      "{'name': 'John', 'age': 30, 'city': 'New York'}\n",
      "\n",
      "Set Types:\n",
      "{1, 2, 3, 4, 5}\n",
      "frozenset({1, 2, 3})\n",
      "\n",
      "Boolean Type:\n",
      "True False\n",
      "\n",
      "Binary Types:\n",
      "b'\\x00\\x01\\x02\\x03'\n",
      "bytearray(b'\\x00\\x01\\x02\\x03')\n",
      "0\n",
      "\n",
      "None Type:\n",
      "None\n"
     ]
    }
   ],
   "source": [
    "# Printing values\n",
    "print(\"Numeric Types:\")\n",
    "print(age,pi) \n",
    "print(complex_num)\n",
    "print(\"\\nText Type:\")\n",
    "print(greeting)\n",
    "print(\"\\nSequence Types:\")\n",
    "print(numbers)\n",
    "print(coordinates)\n",
    "print(list(my_range))\n",
    "print(\"\\nMapping Type:\")\n",
    "print(person)\n",
    "print(\"\\nSet Types:\")\n",
    "print(unique_numbers)\n",
    "print(immutable_set)\n",
    "print(\"\\nBoolean Type:\")\n",
    "print(is_valid, is_invalid)\n",
    "print(\"\\nBinary Types:\")\n",
    "print(binary_data)\n",
    "print(mutable_binary_data)\n",
    "print(mv[0])\n",
    "print(\"\\nNone Type:\")\n",
    "print(result)\n"
   ]
  },
  {
   "cell_type": "markdown",
   "metadata": {},
   "source": [
    "<b> <u> Variable </u> </b>"
   ]
  },
  {
   "cell_type": "markdown",
   "metadata": {},
   "source": [
    "- It is a name given to memory location of a program.\n",
    "\n",
    "OR\n",
    "\n",
    "- It is a named location used to store data in memory.\n",
    "------------------------------------------------------\n",
    "- It holds data that can be changed later in a program.\n",
    "- For e.g., ```num = 10``` , ```website = \"apple.com\"```"
   ]
  },
  {
   "cell_type": "markdown",
   "metadata": {},
   "source": [
    "<b> <u> Literals </u> </b>"
   ]
  },
  {
   "cell_type": "markdown",
   "metadata": {},
   "source": [
    "- It is a notation for representing a fixed value in python code.\n",
    "\n",
    "- These are constant values that directly appears in a program and can be assigned to a variable.\n",
    "- For e.g., ```a = 3``` \n",
    "- Here, value = 3, is integer_literal given by variable ```a```."
   ]
  },
  {
   "cell_type": "markdown",
   "metadata": {},
   "source": []
  }
 ],
 "metadata": {
  "kernelspec": {
   "display_name": "Python 3",
   "language": "python",
   "name": "python3"
  },
  "language_info": {
   "codemirror_mode": {
    "name": "ipython",
    "version": 3
   },
   "file_extension": ".py",
   "mimetype": "text/x-python",
   "name": "python",
   "nbconvert_exporter": "python",
   "pygments_lexer": "ipython3",
   "version": "3.9.10"
  },
  "orig_nbformat": 4
 },
 "nbformat": 4,
 "nbformat_minor": 2
}
