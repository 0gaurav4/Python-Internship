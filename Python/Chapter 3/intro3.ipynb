{
 "cells": [
  {
   "cell_type": "markdown",
   "metadata": {},
   "source": [
    "<code>Author : @mysgrown </code> <br>\n",
    "<b>Python : Chapter 3 </b> <br>\n",
    "<em> Topics covered.. </em>\n",
    "- Integer to Binary, Octal, & Hexadecimal\n",
    "- Big floating point value \n",
    "- Complex number parts\n",
    "- String functions\n",
    "- Escape Sequence Characters"
   ]
  },
  {
   "cell_type": "markdown",
   "metadata": {},
   "source": [
    "<b> <u> Integer to Binary, Octal, & Hexadecimal </u> </b>\n"
   ]
  },
  {
   "cell_type": "code",
   "execution_count": 44,
   "metadata": {},
   "outputs": [
    {
     "name": "stdout",
     "output_type": "stream",
     "text": [
      "Values of bin1 : (1, 2)\n",
      "Values of oct1 : (10, 10)\n",
      "Values of hex1 : (18, 18)\n"
     ]
    }
   ],
   "source": [
    "bin1 = 0b01 , 0B10 #suffix '0b' or '0B' with 0 or 1\n",
    "oct1 = 0o12 , 0O12 #suffix '0o' or '0O'\n",
    "hex1 = 0x12 , 0X12 #suffix '0x' or '0X'\n",
    "print(\"Values of bin1 :\",bin1)\n",
    "print(\"Values of oct1 :\",oct1)\n",
    "print(\"Values of hex1 :\",hex1)\n"
   ]
  },
  {
   "cell_type": "code",
   "execution_count": 46,
   "metadata": {},
   "outputs": [
    {
     "name": "stdout",
     "output_type": "stream",
     "text": [
      "Converted int to bin,oct,hex \n",
      "\n",
      "Integer 22 to binary      : 0b10110    AND type: <class 'str'>\n",
      "Integer 22 to octal       : 0o26       AND type: <class 'str'>\n",
      "Integer 22 to hexadecimal : 0x16       AND type: <class 'str'>\n"
     ]
    }
   ],
   "source": [
    "print(\"Converted int to bin,oct,hex \\n\")\n",
    "num = 22\n",
    "print(f\"Integer {num} to binary      :\",bin(num),\"   AND type:\",type(bin(num)))\n",
    "print(f\"Integer {num} to octal       :\",oct(num),\"      AND type:\",type(oct(num)))\n",
    "print(f\"Integer {num} to hexadecimal :\",hex(num),\"      AND type:\",type(hex(num)))\n"
   ]
  },
  {
   "cell_type": "markdown",
   "metadata": {},
   "source": [
    "<b> <u> Big floating point value </u> </b>\n"
   ]
  },
  {
   "cell_type": "code",
   "execution_count": 47,
   "metadata": {},
   "outputs": [
    {
     "name": "stdout",
     "output_type": "stream",
     "text": [
      "3.2e+20\n",
      "<class 'float'>\n"
     ]
    }
   ],
   "source": [
    "fp = 3.2e20 # 'e' tends to exponential value\n",
    "print(fp)\n",
    "print(type(fp))"
   ]
  },
  {
   "cell_type": "markdown",
   "metadata": {},
   "source": [
    "<b> <u> Complex number parts </u> </b>\n"
   ]
  },
  {
   "cell_type": "code",
   "execution_count": 50,
   "metadata": {},
   "outputs": [
    {
     "name": "stdout",
     "output_type": "stream",
     "text": [
      "(3+6j)\n",
      "<class 'complex'>\n",
      "3.0\n",
      "6.0\n"
     ]
    }
   ],
   "source": [
    "# a -> real part      (bin,int,float,oct,hex)\n",
    "# b -> imaginary part (int,float) \n",
    "\n",
    "complex_num = 3 + 6j\n",
    "print(complex_num)\n",
    "print(type(complex_num))\n",
    "print(complex_num.real) # returns real part of complex number,\n",
    "print(complex_num.imag) # returns imaginary part of it."
   ]
  },
  {
   "cell_type": "markdown",
   "metadata": {},
   "source": [
    "<b> <u> String functions </u> </b>\n"
   ]
  },
  {
   "cell_type": "code",
   "execution_count": 143,
   "metadata": {},
   "outputs": [
    {
     "name": "stdout",
     "output_type": "stream",
     "text": [
      "Input text is :'   Python, String_functions!   '\n",
      "Length of the string:\n",
      " 29\n",
      "Uppercase:\n",
      "   PYTHON, STRING_FUNCTIONS!  \n",
      "Lowercase:\n",
      "   python, string_functions!  \n",
      "Stripped text:\n",
      " Python, String_functions!\n",
      "List of words:\n",
      " ['', '', 'Python,', 'String_functions!', '', '']\n",
      "Joined with '-' separator:\n",
      " --Python,-String_functions!--\n",
      "Starts with 'Python'?\n",
      " False\n",
      "Starts with ' '?\n",
      " True\n",
      "Ends with 'String_functions!'?\n",
      " False\n",
      "Ends with ' '?\n",
      " True\n",
      "Replaced text:\n",
      "   PY, String_functions!  \n",
      "Index of 'String_functions!':\n",
      " 10\n",
      "Index of 'Python':\n",
      " 2\n"
     ]
    }
   ],
   "source": [
    "def string_functions(text):\n",
    "# Length of the string\n",
    "    print(\"Length of the string:\\n\", len(text))\n",
    "\n",
    "# Convert to uppercase\n",
    "    print(\"Uppercase:\\n\", text.upper())\n",
    "\n",
    "# Convert to lowercase\n",
    "    print(\"Lowercase:\\n\", text.lower())\n",
    "\n",
    "# Strip() Remove leading and trailing whitespaces\n",
    "    print(\"Stripped text:\\n\", text.strip())\n",
    "\n",
    "# Split() split the string into a list of substrings\n",
    "    words = text.split(\" \")\n",
    "    print(\"List of words:\\n\", words)\n",
    "\n",
    "# Join the list of words into a single string\n",
    "    joined_text = \"-\".join(words)\n",
    "    print(\"Joined with '-' separator:\\n\", joined_text)\n",
    "\n",
    "# Check if the string starts with a specific substring\n",
    "    print(\"Starts with 'Python'?\\n\", text.startswith(\"Python\"))\n",
    "    print(\"Starts with ' '?\\n\", text.startswith(\" \"))\n",
    "\n",
    "# Check if the string ends with a specific substring\n",
    "    print(\"Ends with 'String_functions!'?\\n\", text.endswith(\"String_functions!\"))\n",
    "    print(\"Ends with ' '?\\n\", text.endswith(\" \"))\n",
    "\n",
    "# Replace occurrences of a substring with another substring\n",
    "    replaced_text = text.replace(\"Python\", \"PY\")\n",
    "    print(\"Replaced text:\\n\", replaced_text)\n",
    "\n",
    "# Find the index of the first occurrence of a substring\n",
    "    print(\"Index of 'String_functions!':\\n\", text.find(\"String_functions!\"))\n",
    "    print(\"Index of 'Python':\\n\", text.find(\"Python\"))\n",
    "\n",
    "if __name__ == \"__main__\":\n",
    "    input_text = \"  Python, String_functions!  \"\n",
    "    print(f\"Input text is :' {input_text} '\")\n",
    "    string_functions(input_text)\n"
   ]
  },
  {
   "cell_type": "code",
   "execution_count": 166,
   "metadata": {},
   "outputs": [
    {
     "name": "stdout",
     "output_type": "stream",
     "text": [
      "'python' sliced to \n",
      " negative slicing:\n",
      " o t p \n",
      "simple slicing: \n",
      " on \n",
      "step slicing: \n",
      " hy\n",
      "\n",
      "Reverse of 'python' is :\n",
      " nohtyp\n",
      "\n",
      " ' python ' is the input string.\n",
      "\n",
      " ' npython ' Index of n is : 6\n",
      "\n",
      " ' npython ' Index of n is : 0\n"
     ]
    }
   ],
   "source": [
    "# Slice the string with indexing\n",
    "t =  'python'\n",
    "print(\"'python' sliced to \\n negative slicing:\\n\", t[-2],t[-4],t[0], \"\\nsimple slicing: \\n\", t[4:6], \"\\nstep slicing: \\n\", t[3:0:-2])\n",
    "\n",
    "# reverse string\n",
    "print(\"\\nReverse of 'python' is :\\n\",t[::-1])\n",
    "\n",
    "# f string or string formatting\n",
    "# {} -> replacement operator\n",
    "print(f\"\\n ' {t} ' is the input string.\")\n",
    "\n",
    "# find() returns index using first matched string\n",
    "# if not matched returns -1\n",
    "# var.find(\"pattern\",\"start\",\"end\")\n",
    "t1 = 'npython'\n",
    "print(f\"\\n ' {t1} ' Index of  last n is :\",t1.find('n',2))\n",
    "\n",
    "# Index() returns index using first matched string\n",
    "# if not matched returns error\n",
    "# var.index(\"pattern\")\n",
    "print(f\"\\n ' {t1} ' Index of n is :\",t1.index('n'))"
   ]
  },
  {
   "cell_type": "code",
   "execution_count": 65,
   "metadata": {},
   "outputs": [
    {
     "name": "stdout",
     "output_type": "stream",
     "text": [
      " This is \n",
      "a \" string's 'example'\n",
      "using python.\" \n"
     ]
    }
   ],
   "source": [
    "# use of quotes in string\n",
    "# 1. triple quote for multiline string known as 'docstring'.\n",
    "# 2. double quote for string holding another single quote string or 's srting.\n",
    "# 3. single quote for holding another double quote string or 's srting.\n",
    "\n",
    "str1 = \"\"\" This is \n",
    "a \" string's 'example'\n",
    "using python.\" \"\"\"\n",
    "print(str1)\n",
    "\n",
    "# 's string -> e.g., : Jon's, Moxely's, Kane's, etc."
   ]
  },
  {
   "cell_type": "markdown",
   "metadata": {},
   "source": [
    "<b> <u> Escape Sequence Characters </u> </b>\n"
   ]
  },
  {
   "cell_type": "code",
   "execution_count": 66,
   "metadata": {},
   "outputs": [
    {
     "name": "stdout",
     "output_type": "stream",
     "text": [
      "Python\n",
      "Escape Sequence!\n",
      "Escape \tSequence\n",
      "Escape the backslash: \\\n",
      "He said, 'Escape'\n",
      "She said, \"Sequence Character\"\n",
      "Raw string: C:\\Users\\ESC\\Desktop\n",
      "Σ is the Greek letter sigma\n",
      "Hex value: A is A\n"
     ]
    }
   ],
   "source": [
    "def escape_sqchar():\n",
    "    # Newline escape sequence\n",
    "    print(\"Python\\nEscape Sequence!\")\n",
    "    \n",
    "    # Tab escape sequence\n",
    "    print(\"Escape \\tSequence\")\n",
    "    \n",
    "    # Backslash escape sequence\n",
    "    print(\"Escape the backslash: \\\\\")\n",
    "\n",
    "    # Single quote escape sequence\n",
    "    print(\"He said, 'Escape'\")\n",
    "\n",
    "    # Double quote escape sequence\n",
    "    print(\"She said, \\\"Sequence Character\\\"\")\n",
    "\n",
    "    # Raw strings (ignores escape sequences)\n",
    "    print(r\"Raw string: C:\\Users\\ESC\\Desktop\")\n",
    "\n",
    "    # Unicode escape sequence\n",
    "    print(\"\\u03A3 is the Greek letter sigma\")\n",
    "\n",
    "    # Hexadecimal escape sequence\n",
    "    print(\"Hex value: \\x41 is A\")\n",
    "\n",
    "if __name__ == \"__main__\":\n",
    "    escape_sqchar()\n"
   ]
  }
 ],
 "metadata": {
  "kernelspec": {
   "display_name": "Python 3",
   "language": "python",
   "name": "python3"
  },
  "language_info": {
   "codemirror_mode": {
    "name": "ipython",
    "version": 3
   },
   "file_extension": ".py",
   "mimetype": "text/x-python",
   "name": "python",
   "nbconvert_exporter": "python",
   "pygments_lexer": "ipython3",
   "version": "3.9.10"
  },
  "orig_nbformat": 4
 },
 "nbformat": 4,
 "nbformat_minor": 2
}
