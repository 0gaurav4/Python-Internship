{
 "cells": [
  {
   "cell_type": "markdown",
   "metadata": {},
   "source": [
    "<code>Author : @mysgrown </code> <br>\n",
    "<b>Python : Chapter 4 </b> <br>\n",
    "<em> Topics covered.. </em>\n",
    "- Indexing\n",
    "- Check case in string\n",
    "- Range()\n",
    "- Type casting\n",
    "- Operators"
   ]
  },
  {
   "cell_type": "markdown",
   "metadata": {},
   "source": [
    "<b> <u> Intdexing </u> </b>\n"
   ]
  },
  {
   "cell_type": "markdown",
   "metadata": {},
   "source": [
    "-  The index is a numeric value that represents the position of the element within the data structure.\n",
    "- Indexing refers to the process of accessing individual elements within a data structure.\n",
    "- From left to right starts with 0.\n",
    "- From right to left starts with -1."
   ]
  },
  {
   "cell_type": "code",
   "execution_count": 8,
   "metadata": {},
   "outputs": [
    {
     "name": "stdout",
     "output_type": "stream",
     "text": [
      "1\n",
      "pip\n",
      "{'name': 'John', 'age': 30}\n"
     ]
    }
   ],
   "source": [
    "# data structure\n",
    "index_list = [1,3,\"pip\",{\"name\": \"John\", \"age\": 30}]\n",
    "# indexing\n",
    "print(index_list[0])\n",
    "print(index_list[2])\n",
    "print(index_list[-1])\n"
   ]
  },
  {
   "cell_type": "markdown",
   "metadata": {},
   "source": [
    "<b> <u> Check case in string </u> </b>\n"
   ]
  },
  {
   "cell_type": "code",
   "execution_count": 17,
   "metadata": {},
   "outputs": [
    {
     "name": "stdout",
     "output_type": "stream",
     "text": [
      "Count of string pip is:  3\n",
      "check isuppercase :  False\n",
      "check islowercase :  True\n",
      "check isspace :  False\n"
     ]
    }
   ],
   "source": [
    "str1 = ''' pip py pip3 pip pandas pytorch '''\n",
    "\n",
    "# count() : used to count any string\n",
    "print(\"Count of string pip is: \",str1.count('pip'))\n",
    "\n",
    "# isupper()\n",
    "print(\"check isuppercase : \",str1.isupper())\n",
    "\n",
    "# islower()\n",
    "print(\"check islowercase : \",str1.islower())\n",
    "\n",
    "# isspace()\n",
    "print(\"check isspace : \",str1.isspace())\n",
    "\n"
   ]
  },
  {
   "cell_type": "markdown",
   "metadata": {},
   "source": [
    "<b> <u> Range() </u> </b>\n"
   ]
  },
  {
   "cell_type": "markdown",
   "metadata": {},
   "source": [
    "- returns a sequence of numbers.\n",
    "- range(start,stop,step)\n",
    "- range(0,n+1) n is an int value"
   ]
  },
  {
   "cell_type": "code",
   "execution_count": 21,
   "metadata": {},
   "outputs": [
    {
     "name": "stdout",
     "output_type": "stream",
     "text": [
      "The range series is: 2\n",
      "The range series is: 4\n",
      "The range series is: 6\n",
      "The range series is: 8\n",
      "The range series is: 10\n",
      "The range series is: 12\n",
      "The range series is: 14\n",
      "The range series is: 16\n",
      "The range series is: 18\n",
      "The range series is: 20\n"
     ]
    }
   ],
   "source": [
    "# range()\n",
    "for i in range(2,21,2):\n",
    "    print(\"The range series is:\",i)"
   ]
  },
  {
   "cell_type": "markdown",
   "metadata": {},
   "source": [
    "<b> <u> Type Casting </u> </b>\n"
   ]
  },
  {
   "cell_type": "markdown",
   "metadata": {},
   "source": [
    "- Used for type conversion.\n",
    "- Can take one datatype in parenthesis to the desired data type for conversion."
   ]
  },
  {
   "cell_type": "code",
   "execution_count": 22,
   "metadata": {},
   "outputs": [
    {
     "name": "stdout",
     "output_type": "stream",
     "text": [
      "31\n",
      "32.0\n"
     ]
    }
   ],
   "source": [
    "print(str(31))\n",
    "print(float(32))\n"
   ]
  },
  {
   "cell_type": "markdown",
   "metadata": {},
   "source": [
    "<b> <u> Operators </u> </b>\n"
   ]
  },
  {
   "cell_type": "markdown",
   "metadata": {},
   "source": [
    "- Symbols used to perform operations on variables and values."
   ]
  },
  {
   "cell_type": "markdown",
   "metadata": {},
   "source": [
    "1. <u> Arithmetic Operators: </u>\n",
    "- Arithmetic operators are used for basic mathematical calculations."
   ]
  },
  {
   "cell_type": "code",
   "execution_count": 23,
   "metadata": {},
   "outputs": [],
   "source": [
    "a = 10\n",
    "b = 5\n",
    "\n",
    "# Addition\n",
    "result_add = a + b    # 10 + 5 = 15\n",
    "\n",
    "# Subtraction\n",
    "result_sub = a - b    # 10 - 5 = 5\n",
    "\n",
    "# Multiplication\n",
    "result_mul = a * b    # 10 * 5 = 50\n",
    "\n",
    "# Division\n",
    "result_div = a / b    # 10 / 5 = 2.0\n",
    "\n",
    "# Floor Division (returns the floor value of division)\n",
    "result_floor_div = a // b    # 10 // 5 = 2\n",
    "\n",
    "# Modulus (returns the remainder of division)\n",
    "result_mod = a % b    # 10 % 5 = 0\n",
    "\n",
    "# Exponentiation\n",
    "result_exp = a ** b    # 10 ** 5 = 100000\n"
   ]
  },
  {
   "cell_type": "markdown",
   "metadata": {},
   "source": [
    "2. <u> Comparison Operators: </u>\n",
    "- Comparison operators are used to compare two values and return True or False."
   ]
  },
  {
   "cell_type": "code",
   "execution_count": 24,
   "metadata": {},
   "outputs": [
    {
     "name": "stdout",
     "output_type": "stream",
     "text": [
      "False\n",
      "True\n",
      "True\n",
      "False\n",
      "True\n",
      "False\n"
     ]
    }
   ],
   "source": [
    "x = 10\n",
    "y = 5\n",
    "\n",
    "# Equal to\n",
    "print(x == y)   # Output: False\n",
    "\n",
    "# Not equal to\n",
    "print(x != y)   # Output: True\n",
    "\n",
    "# Greater than\n",
    "print(x > y)    # Output: True\n",
    "\n",
    "# Less than\n",
    "print(x < y)    # Output: False\n",
    "\n",
    "# Greater than or equal to\n",
    "print(x >= y)   # Output: True\n",
    "\n",
    "# Less than or equal to\n",
    "print(x <= y)   # Output: False\n"
   ]
  },
  {
   "cell_type": "markdown",
   "metadata": {},
   "source": [
    "3. <u> Logical Operators: </u>\n",
    "- Logical operators are used to combine or negate conditions."
   ]
  },
  {
   "cell_type": "code",
   "execution_count": 25,
   "metadata": {},
   "outputs": [
    {
     "name": "stdout",
     "output_type": "stream",
     "text": [
      "False\n",
      "True\n",
      "False\n"
     ]
    }
   ],
   "source": [
    "p = True\n",
    "q = False\n",
    "\n",
    "# Logical AND\n",
    "print(p and q)   # Output: False\n",
    "\n",
    "# Logical OR\n",
    "print(p or q)    # Output: True\n",
    "\n",
    "# Logical NOT\n",
    "print(not p)     # Output: False\n"
   ]
  },
  {
   "cell_type": "markdown",
   "metadata": {},
   "source": [
    "4. <u> Assignment Operators: </u>\n",
    "- Assignment operators are used to assign values to variables."
   ]
  },
  {
   "cell_type": "code",
   "execution_count": 26,
   "metadata": {},
   "outputs": [],
   "source": [
    "x = 10\n",
    "\n",
    "# Add and Assign\n",
    "x += 5    # Equivalent to x = x + 5\n",
    "\n",
    "# Subtract and Assign\n",
    "x -= 3    # Equivalent to x = x - 3\n",
    "\n",
    "# Multiply and Assign\n",
    "x *= 2    # Equivalent to x = x * 2\n",
    "\n",
    "# Divide and Assign\n",
    "x /= 4    # Equivalent to x = x / 4\n"
   ]
  },
  {
   "cell_type": "markdown",
   "metadata": {},
   "source": [
    "5. <u> Membership Operators: </u>\n",
    "- Membership operators are used to test if a value is present in a sequence (like a list, tuple, string, etc.)."
   ]
  },
  {
   "cell_type": "code",
   "execution_count": 27,
   "metadata": {},
   "outputs": [
    {
     "name": "stdout",
     "output_type": "stream",
     "text": [
      "True\n",
      "True\n"
     ]
    }
   ],
   "source": [
    "my_list = [1, 2, 3, 4, 5]\n",
    "\n",
    "# In Operator\n",
    "print(3 in my_list)   # Output: True\n",
    "\n",
    "# Not In Operator\n",
    "print(6 not in my_list)   # Output: True\n"
   ]
  },
  {
   "cell_type": "markdown",
   "metadata": {},
   "source": [
    "6. <u> Identity Operators: </u>\n",
    "- Identity operators are used to comparing the memory addresses of two objects to check if they are the same object or not.\n",
    "- In Python, there are two identity operators: is and is not."
   ]
  },
  {
   "cell_type": "code",
   "execution_count": 28,
   "metadata": {},
   "outputs": [
    {
     "name": "stdout",
     "output_type": "stream",
     "text": [
      "True\n",
      "False\n",
      "True\n"
     ]
    }
   ],
   "source": [
    "a = [1, 2, 3]\n",
    "b = a  # b refers to the same object as a\n",
    "\n",
    "# 'is' operator checks if a and b refer to the same object\n",
    "print(a is b)   # Output: True\n",
    "\n",
    "c = [1, 2, 3]\n",
    "\n",
    "# 'is' operator also checks if two different objects have the same value\n",
    "print(a is c)   # Output: False\n",
    "\n",
    "# 'is not' operator checks if a and c refer to different objects\n",
    "print(a is not c)   # Output: True\n"
   ]
  },
  {
   "cell_type": "markdown",
   "metadata": {},
   "source": [
    "7. <u> Bitwise Operators: </u>\n",
    "- Bitwise operators perform operations on individual bits of integers.\n",
    "\n",
    "- Bitwise AND (&): Sets each bit to 1 if both bits are 1.\n",
    "- Bitwise OR (|): Sets each bit to 1 if either bit is 1.\n",
    "- Bitwise XOR (^): Sets each bit to 1 if only one of the bits is 1.\n",
    "- Bitwise NOT (~): Inverts the bits.\n",
    "- Left Shift (<<): Shifts the bits to the left by the specified number of positions.\n",
    "- Right Shift (>>): Shifts the bits to the right by the specified number of positions."
   ]
  },
  {
   "cell_type": "code",
   "execution_count": 29,
   "metadata": {},
   "outputs": [
    {
     "name": "stdout",
     "output_type": "stream",
     "text": [
      "1\n",
      "7\n",
      "6\n",
      "-6\n",
      "10\n",
      "2\n"
     ]
    }
   ],
   "source": [
    "# Bitwise AND\n",
    "x = 5   # 0101 in binary\n",
    "y = 3   # 0011 in binary\n",
    "result_and = x & y   # 0001 in binary (1 in decimal)\n",
    "print(result_and)    # Output: 1\n",
    "\n",
    "# Bitwise OR\n",
    "result_or = x | y   # 0111 in binary (7 in decimal)\n",
    "print(result_or)    # Output: 7\n",
    "\n",
    "# Bitwise XOR\n",
    "result_xor = x ^ y   # 0110 in binary (6 in decimal)\n",
    "print(result_xor)    # Output: 6\n",
    "\n",
    "# Bitwise NOT\n",
    "x = 5\n",
    "result_not = ~x   # -(x + 1)\n",
    "print(result_not)    # Output: -6 (in two's complement representation)\n",
    "\n",
    "# Left Shift\n",
    "x = 5\n",
    "result_left_shift = x << 1   # 1010 in binary (10 in decimal)\n",
    "print(result_left_shift)    # Output: 10\n",
    "\n",
    "# Right Shift\n",
    "x = 5\n",
    "result_right_shift = x >> 1   # 0010 in binary (2 in decimal)\n",
    "print(result_right_shift)    # Output: 2\n"
   ]
  }
 ],
 "metadata": {
  "kernelspec": {
   "display_name": "Python 3",
   "language": "python",
   "name": "python3"
  },
  "language_info": {
   "codemirror_mode": {
    "name": "ipython",
    "version": 3
   },
   "file_extension": ".py",
   "mimetype": "text/x-python",
   "name": "python",
   "nbconvert_exporter": "python",
   "pygments_lexer": "ipython3",
   "version": "3.10.11"
  },
  "orig_nbformat": 4
 },
 "nbformat": 4,
 "nbformat_minor": 2
}
