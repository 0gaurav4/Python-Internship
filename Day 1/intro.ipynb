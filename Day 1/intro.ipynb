{
 "cells": [
  {
   "cell_type": "markdown",
   "metadata": {},
   "source": [
    "<code>Author : @mysgrown </code> <br>\n",
    "<b>Python : Day 1 </b> <br>\n",
    "<em> Topics covered.. </em>\n",
    "- What is Python\n",
    "- Adavntages / Features of Python \n",
    "- Disadvantages / Limitations of Python\n",
    "- Applications of Python\n",
    "- Python is interpreted or Compiled ? \n",
    "- Versions / Flavours of Python"
   ]
  },
  {
   "cell_type": "markdown",
   "metadata": {},
   "source": [
    "<b><u> What is Python? </b>"
   ]
  },
  {
   "cell_type": "markdown",
   "metadata": {},
   "source": [
    "- Python is a general purpose, high-level, interpreted, programming language.\n",
    "\n",
    "- It is most popular in AI and ML.\n",
    "- It was developed by <code>Guido Van Rossum</code> in 1989. Publically available <date>Feb/20/1991</date>.\n",
    "- Python name inspired by <code>\"Monte Flying Python Circus\"</code> broadcast by BBC in 1969-74."
   ]
  },
  {
   "cell_type": "markdown",
   "metadata": {},
   "source": [
    "<b><u> Adavntages / Features of Python </b>"
   ]
  },
  {
   "cell_type": "markdown",
   "metadata": {},
   "source": [
    "- <strong> General Purpose : </strong> Can be used for wide range of applications.\n",
    "\n",
    "- <strong> High-level / OOPs : </strong>  Provide abstractions that simplify complex programming tasks, including (Object Oriented Programming concepts) OOPs.\n",
    "- <strong> Free & Open source : </strong> Available free of cost and easy to code beacause of large open source community.\n",
    "- <strong> Extensible feature / Scripting : </strong> We can write some python code in other programming languages. For example : <em>Chaquopy</em> in Android and <em>pyscript</em> in HTML.\n",
    "- <strong> Portable / Platform independent : </strong> We can write same python code in Linux, Windows, Android and IOS.\n",
    "- <strong> Large Standard Library : </strong> Python has collection of pre-built modules and functions for various tasks.\n",
    "- <strong> Dynamically typed language : </strong> No need to specify the type  of variable, it will be taken automatically according the given value in Python.\n",
    "- <strong> Interpreted : </strong> Python code is executed line by line by an interpreter, allowing for rapid development and easy debugging.\n"
   ]
  },
  {
   "cell_type": "markdown",
   "metadata": {},
   "source": [
    "<b><u> Disadavntages / Limitations of Python </b>"
   ]
  },
  {
   "cell_type": "markdown",
   "metadata": {},
   "source": [
    "- Slow execution speed.\n",
    "- Not memory efficient.\n",
    "- Tough to access databases.\n",
    "- weak in mobile application development.\n"
   ]
  },
  {
   "cell_type": "markdown",
   "metadata": {},
   "source": [
    "<b><u> Applications of Python </b>\n"
   ]
  },
  {
   "cell_type": "markdown",
   "metadata": {},
   "source": [
    "- Web development\n",
    "- Game development\n",
    "- IOT development\n",
    "- Machine Learning\n",
    "- Artificial Intelligence\n",
    "- Network Programming\n",
    "- Database Programming\n",
    "- Data Analytics and Visualizations"
   ]
  },
  {
   "cell_type": "markdown",
   "metadata": {},
   "source": [
    "<b><u> Python is interpreted or Compiled ? </b>\n"
   ]
  },
  {
   "cell_type": "markdown",
   "metadata": {},
   "source": [
    "In Python, the code is first compiled into bytecode and then interpreted by the Python interpreter. The compilation step happens automatically when the code is run, and the interpreted bytecode is executed by the interpreter. This combination of compilation and interpretation is known as \"interpreted compilation\" or \"just-in-time compilation.\""
   ]
  },
  {
   "cell_type": "markdown",
   "metadata": {},
   "source": [
    "<b><u> Versions / Flavours of Python </b>"
   ]
  },
  {
   "cell_type": "markdown",
   "metadata": {},
   "source": [
    "- It typically pertains to different implementations or distributions of the Python programming language. These flavors provide additional features and capabilities.\n",
    "\n",
    "- <b> Jython </b> : <code> Python Interact with Java libraries. </code> \n",
    "- <b> IronPython </b> : <code> Python Interact with .NET libraries. </code>\n",
    "- <b> PyPy </b> : <code> Utilize JIT compilation for performance improvement over cpython. </code>\n",
    "- <b> MicroPython </b> : <code> lightweight implementation optimized for microcontrollers and embedded systems.\n",
    "- <b> CPython </b> : <code> The default and most widely used implementation of Python, written in C. </code>\n",
    "- <b> Anaconda </b> : <code> (although it is primarily a distribution that includes CPython, it also provides additional tools and libraries). </code>"
   ]
  },
  {
   "cell_type": "markdown",
   "metadata": {},
   "source": []
  }
 ],
 "metadata": {
  "language_info": {
   "name": "python"
  },
  "orig_nbformat": 4
 },
 "nbformat": 4,
 "nbformat_minor": 2
}
